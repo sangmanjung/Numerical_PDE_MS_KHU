{
 "cells": [
  {
   "cell_type": "markdown",
   "metadata": {},
   "source": [
    "## Python Numerical PDEs Exercise\n",
    "\n",
    "The equation is du/dt + a(du/dx) = 0 (One-way wave equation)\n",
    "\n",
    "a : speed of propagation, u = u(x,t) where x : space variable, t : time variable, u0 = u(x,0) : initial condition."
   ]
  },
  {
   "cell_type": "markdown",
   "metadata": {},
   "source": [
    "#### Base parameters"
   ]
  },
  {
   "cell_type": "code",
   "execution_count": 1,
   "metadata": {},
   "outputs": [
    {
     "data": {
      "text/plain": [
       "(68, 81)"
      ]
     },
     "execution_count": 1,
     "metadata": {},
     "output_type": "execute_result"
    }
   ],
   "source": [
    "import numpy as np\n",
    "\n",
    "# parameters\n",
    "lam = 0.6; dx = 0.1; dt = dx*lam; a=1;\n",
    "\n",
    "# time, space and finite difference grid\n",
    "t = np.arange(0,4+dt,dt); x=np.arange(-4,4+dx,dx); n = len(t); m = len(x); u = np.zeros((n,m)); u.shape"
   ]
  },
  {
   "cell_type": "markdown",
   "metadata": {},
   "source": [
    "#### Initial condition of u(x,t)"
   ]
  },
  {
   "cell_type": "code",
   "execution_count": 2,
   "metadata": {},
   "outputs": [],
   "source": [
    "# initial grid\n",
    "u0 = np.zeros((1,m));\n",
    "\n",
    "# initial condition\n",
    "for j in range(0,m):\n",
    "    if (np.abs(x[j]) <= 1):\n",
    "        u0[0,j]=1\n",
    "    else:\n",
    "        u0[0,j]=0\n",
    "\n",
    "# assignment\n",
    "u[0,:] = u0;"
   ]
  },
  {
   "cell_type": "markdown",
   "metadata": {},
   "source": [
    "#### finite difference scheme : FTBS\n",
    "\n",
    "du/dt == (v^n+1 - v^n)/dt, du/dx == (v_m - v_m-1)/dx, n L time step, m : space step.\n",
    "\n",
    "Scheme : v^n+1 = v^n - lambda*(v_m - n_m-1) where lambda = a*(dt/dx)."
   ]
  },
  {
   "cell_type": "code",
   "execution_count": 3,
   "metadata": {},
   "outputs": [],
   "source": [
    "for i in range(0,n-1):\n",
    "    for j in range(1,m-1):\n",
    "        u[i+1,j] = u[i,j] - lam*(u[i,j] - u[i,j-1])"
   ]
  },
  {
   "cell_type": "markdown",
   "metadata": {},
   "source": [
    "#### Graph of u(x,t)"
   ]
  },
  {
   "cell_type": "code",
   "execution_count": 15,
   "metadata": {},
   "outputs": [
    {
     "data": {
      "image/png": "[encoded data removed]",
      "text/plain": [
       "<Figure size 432x288 with 1 Axes>"
      ]
     },
     "metadata": {
      "needs_background": "light"
     },
     "output_type": "display_data"
    }
   ],
   "source": [
    "from matplotlib import pyplot as plt\n",
    "\n",
    "plt.plot(x,u[0,:],color='b',label='initial');\n",
    "plt.plot(x,u[20,:],color='r',label='solution');\n",
    "plt.xlabel('space variable');\n",
    "plt.ylabel('solution u(x,t)');\n",
    "plt.title('Simple wave equation using FTBS');\n",
    "plt.grid();\n",
    "plt.legend(loc='upper left');\n",
    "    "
   ]
  }
 ],
 "metadata": {
  "kernelspec": {
   "display_name": "Python 3",
   "language": "python",
   "name": "python3"
  },
  "language_info": {
   "codemirror_mode": {
    "name": "ipython",
    "version": 3
   },
   "file_extension": ".py",
   "mimetype": "text/x-python",
   "name": "python",
   "nbconvert_exporter": "python",
   "pygments_lexer": "ipython3",
   "version": "3.7.3"
  }
 },
 "nbformat": 4,
 "nbformat_minor": 4
}
